{
 "cells": [
  {
   "cell_type": "code",
   "execution_count": 4,
   "metadata": {},
   "outputs": [],
   "source": [
    "import numpy as np\n",
    "import pandas as pd\n",
    "import requests\n",
    "\n",
    "pd.set_option('display.max_columns', None)\n",
    "\n",
    "# Set up the pandas dataframe\n",
    "gt_play_data = pd.DataFrame()\n",
    "\n",
    "# Query the API for the CPJ data. We only need to do this once, so it's commented out.\n",
    "# for year in range(2005,2018):\n",
    "#     response = requests.get(\"https://api.collegefootballdata.com/plays?seasonType=both&year={0}&offense=Georgia Tech\".format(year))\n",
    "#     df = pd.io.json.json_normalize(response.json())\n",
    "#     gt_play_data = pd.concat([gt_play_data,df])\n",
    "\n",
    "# Data is exported to a CSV, which we will be pulling from now\n",
    "# gt_play_data.to_csv('./data/plays/GeorgiaTech.csv')"
   ]
  },
  {
   "cell_type": "code",
   "execution_count": null,
   "metadata": {},
   "outputs": [],
   "source": []
  }
 ],
 "metadata": {
  "language_info": {
   "codemirror_mode": {
    "name": "ipython",
    "version": 3
   },
   "file_extension": ".py",
   "mimetype": "text/x-python",
   "name": "python",
   "nbconvert_exporter": "python",
   "pygments_lexer": "ipython3",
   "version": 3
  },
  "orig_nbformat": 2,
  "kernelspec": {
   "name": "python_defaultSpec_1594408275403",
   "display_name": "Python 3.8.2 64-bit"
  }
 },
 "nbformat": 4,
 "nbformat_minor": 2
}